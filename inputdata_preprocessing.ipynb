{
  "nbformat": 4,
  "nbformat_minor": 0,
  "metadata": {
    "colab": {
      "name": "inputdata_preprocessing.ipynb",
      "provenance": [],
      "collapsed_sections": []
    },
    "kernelspec": {
      "name": "python3",
      "display_name": "Python 3"
    },
    "language_info": {
      "name": "python"
    }
  },
  "cells": [
    {
      "cell_type": "markdown",
      "metadata": {
        "id": "Nt8ftcvXg_ha"
      },
      "source": [
        "# 데이터 전처리 프로그램\n",
        "인사말 등의 정형화된 문자열 제거\n",
        "delete.txt에 제거할 문자 입력"
      ]
    },
    {
      "cell_type": "code",
      "metadata": {
        "id": "3N3bwcjQ-zR6"
      },
      "source": [
        "import pandas as pd\n",
        "import re\n",
        "from hanspell import spell_checker"
      ],
      "execution_count": 133,
      "outputs": []
    },
    {
      "cell_type": "code",
      "metadata": {
        "colab": {
          "base_uri": "https://localhost:8080/"
        },
        "id": "w7id6oRu-nsw",
        "outputId": "032fedf2-2097-4531-8e70-f29082a1c444"
      },
      "source": [
        "pip install py-hanspell"
      ],
      "execution_count": 134,
      "outputs": [
        {
          "output_type": "stream",
          "text": [
            "Collecting py-hanspell\n",
            "  Downloading https://files.pythonhosted.org/packages/24/81/baac88868b58eea5b0aab675da7ef0cdd72bee62b080cd50336a76faf57f/py-hanspell-1.1.tar.gz\n",
            "\u001b[31mERROR: Command errored out with exit status 1: python setup.py egg_info Check the logs for full command output.\u001b[0m\n"
          ],
          "name": "stdout"
        }
      ]
    },
    {
      "cell_type": "code",
      "metadata": {
        "id": "Z--dRKOjQ2S5"
      },
      "source": [
        "def clean_text(input):\n",
        "  sent_clean = input\n",
        "  marks = ['...', '..']\n",
        "  for text in delete_list['삭제리스트']:\n",
        "    for mark in marks:\n",
        "      sent_clean = sent_clean.replace(text + mark, '')\n",
        "    sent_clean = re.sub(text + r'[^\\w]', '', sent_clean)\n",
        "    while sent_clean[0] == ' ': sent_clean = sent_clean.replace(' ', '')\n",
        "  return sent_clean"
      ],
      "execution_count": 128,
      "outputs": []
    },
    {
      "cell_type": "code",
      "metadata": {
        "id": "h9kSrukekChc"
      },
      "source": [
        "data = pd.read_csv('test_data.csv', encoding='euc-kr')\n",
        "raw_data = data['질문 내용'].copy()"
      ],
      "execution_count": 129,
      "outputs": []
    },
    {
      "cell_type": "markdown",
      "metadata": {
        "id": "YPJG7BSYYN5G"
      },
      "source": [
        ""
      ]
    },
    {
      "cell_type": "code",
      "metadata": {
        "id": "FoQxOsgLRo9o"
      },
      "source": [
        "!cat /dev/null > delete.txt #txt파일 초기화\n",
        "f = open('delete.txt', 'a')\n",
        "f.write('삭제리스트')\n",
        "delete_list = ['안녕하세요', '다름이 아니라', '다름 아니라']\n",
        "for text in delete_list:\n",
        "  f.write('\\n' + text)\n",
        "#delete.txt파일에 삭제하고 싶은 내용을 \\n로 나눠 입력하시면 됩니다."
      ],
      "execution_count": 130,
      "outputs": []
    },
    {
      "cell_type": "markdown",
      "metadata": {
        "id": "lvEsK6iBhkCe"
      },
      "source": [
        "\"안녕하세요.\"라는 문장이 있을 때 \"안녕하세요\"를 먼저 제거하면 마침표(.)가 남기 때문에\n",
        "문자열 길이가 긴 순서로 제거한다. (\"안녕하세요\"보다 \"안녕하세요.\"를 먼저 고려)"
      ]
    },
    {
      "cell_type": "code",
      "metadata": {
        "id": "T2924Utze8qJ"
      },
      "source": [
        "delete_list = pd.read_csv('delete.txt', sep='\\n')\n",
        "s = delete_list.삭제리스트.str.len().sort_values(ascending=False).index\n",
        "delete_list = delete_list.reindex(s)\n",
        "delete_list = delete_list.reset_index(drop=True)"
      ],
      "execution_count": 131,
      "outputs": []
    },
    {
      "cell_type": "code",
      "metadata": {
        "colab": {
          "base_uri": "https://localhost:8080/"
        },
        "id": "Gt6bYR97_paW",
        "outputId": "88544467-99b1-4edd-edb9-e9953d94312d"
      },
      "source": [
        "for i, sent in enumerate(data['질문 내용']):\n",
        "  data['질문 내용'][i] = clean_text(sent)\n",
        "\n",
        "for i, sent in enumerate(data['질문 내용']):\n",
        "  print(str(i) + '.before : ' + raw_data[i])\n",
        "  print(str(i) + '.after  : ' + sent)\n"
      ],
      "execution_count": 132,
      "outputs": [
        {
          "output_type": "stream",
          "text": [
            "0.before : 패키지 설치 중 env가 꼬여서 삭제 후 재설치를 시도하고 있는데 중간에 env 스크립트 확인을 위해 yml 파일을 열었다 닫는다는 것이 저장을 하게 되었습니다.    그 후 conda env create 명령을 실행 후 약 한시간 정도를 기다려도 env가 생성이 안되어서 문의 드립니다.    해당 env는 tensorflow2_p36이며 혹 스크립트를 변경해야 하는지 아니면 원래 env를 생성하는데 1시간 이상의 시간이 필요한지 확인 부탁드립니다.\n",
            "0.after  : 패키지 설치 중 env가 꼬여서 삭제 후 재설치를 시도하고 있는데 중간에 env 스크립트 확인을 위해 yml 파일을 열었다 닫는다는 것이 저장을 하게 되었습니다.    그 후 conda env create 명령을 실행 후 약 한시간 정도를 기다려도 env가 생성이 안되어서 문의 드립니다.    해당 env는 tensorflow2_p36이며 혹 스크립트를 변경해야 하는지 아니면 원래 env를 생성하는데 1시간 이상의 시간이 필요한지 확인 부탁드립니다.\n",
            "1.before : 안녕하세요, NIPA-AIGPU 제공해주셔서 감사합니다. 혹시 PDF 첨부파일 관련하여, 오픈가능한 암호를 jdj0715@gmail.com 제 메일로 보내주실 수 있으신가요? SMS를 받지 못해 주말에 사용하지 못할까봐 걱정되어 문의드립니다\n",
            "1.after  : NIPA-AIGPU제공해주셔서감사합니다.혹시PDF첨부파일관련하여,오픈가능한암호를jdj0715@gmail.com제메일로보내주실수있으신가요?SMS를받지못해주말에사용하지못할까봐걱정되어문의드립니다\n",
            "2.before : OpenCV 를 첨부의 파일에서와 같이 설치 후 import 가 되지 않습니다.\n",
            "2.after  : OpenCV 를 첨부의 파일에서와 같이 설치 후 import 가 되지 않습니다.\n",
            "3.before : 다름이 아니라 저희가 코드를 돌리다가 out of memory 문제가 발생하는 것이    OOM killer로 인해 발생하는 것 같아서 sudo echo -17 > /proc/<python pid>/oom_adj 로    OOM killer를 해결하려고 했는데 위 명령어 진행 후 코드를 돌리면    connection이 갑자기 끊깁니다.    OOM killer로 인한 문제 발생인지 확인 부탁드립니다.    또한 OOM killer로 인한 문제가 맞다면 위 명령어 외의 해결방안도 알려주시면 감사하겠습니다.\n",
            "3.after  : 저희가 코드를 돌리다가 out of memory 문제가 발생하는 것이    OOM killer로 인해 발생하는 것 같아서 sudo echo -17 > /proc/<python pid>/oom_adj 로    OOM killer를 해결하려고 했는데 위 명령어 진행 후 코드를 돌리면    connection이 갑자기 끊깁니다.    OOM killer로 인한 문제 발생인지 확인 부탁드립니다.    또한 OOM killer로 인한 문제가 맞다면 위 명령어 외의 해결방안도 알려주시면 감사하겠습니다.\n",
            "4.before : 다름이 아니라 현재 할당받은 GPU서버의 OS를 Ubuntu 20.04로 업그레이드하는 것이 기술적/정책적으로 가능한지 여부를 여쭙고자 문의 드립니다.  가능 여부를 회신 부탁드리며, 혹 보유하고 계시다면 설치 매뉴얼을 제공해 주시면 감사하겠습니다.\n",
            "4.after  : 현재 할당받은 GPU서버의 OS를 Ubuntu 20.04로 업그레이드하는 것이 기술적/정책적으로 가능한지 여부를 여쭙고자 문의 드립니다.  가능 여부를 회신 부탁드리며, 혹 보유하고 계시다면 설치 매뉴얼을 제공해 주시면 감사하겠습니다.\n",
            "5.before : 콘솔 - 모니터링 - 성능그래프 에서 상태를 확인할수 있다고 해주셨는데  보는 방법을 몰라서 그중에 어느걸 확인해야 할지 모르겠네요.  실시간 접속량이나 트래픽을 확인할려면 Network Interface  만 확인하면 될까요?\n",
            "5.after  : 콘솔 - 모니터링 - 성능그래프 에서 상태를 확인할수 있다고 해주셨는데  보는 방법을 몰라서 그중에 어느걸 확인해야 할지 모르겠네요.  실시간 접속량이나 트래픽을 확인할려면 Network Interface  만 확인하면 될까요?\n",
            "6.before : Login 할려니     ORA-28040: No matching authentication protocol    이런 메세지 뜨며 안됩니다.\n",
            "6.after  : Login 할려니     ORA-28040: No matching authentication protocol    이런 메세지 뜨며 안됩니다.\n",
            "7.before : 원격 접속 문제는 해결이 완료되었습니다.  현재 인터넷 브라우저 기본 설정이 IE로 되어있는데요. 크롬을 기본으로 설정하고자 다운로드를 시도하였습니다.  하지만 접속이 용이하지 않고 다운로드가 되지 않습니다.\n",
            "7.after  : 원격 접속 문제는 해결이 완료되었습니다.  현재 인터넷 브라우저 기본 설정이 IE로 되어있는데요. 크롬을 기본으로 설정하고자 다운로드를 시도하였습니다.  하지만 접속이 용이하지 않고 다운로드가 되지 않습니다.\n",
            "8.before : 다름 아니라, 제목과 같이 아래 다음 작업들은 디딤넷에서 진행하시는 작업인지  아니면, 저희가 직접 서버에 설치하면 되는 작업인지 문의드립니다.    1. JDK 상위 버전 설치  2. APACHE WEB SERVER 상위 버전 설치  3. SSL 인증서 신규 버전 설치 \n",
            "8.after  : 제목과같이아래다음작업들은디딤넷에서진행하시는작업인지아니면,저희가직접서버에설치하면되는작업인지문의드립니다.1.JDK상위버전설치2.APACHEWEBSERVER상위버전설치3.SSL인증서신규버전설치\n",
            "9.before : 훈련 도중 갑자기 멈추는 상황이 반복되어 reboot 을 했는데요 이후에 nvidi-smi 명령어가 먹히지 않습니다.  pytorch에서도 gpu를 잡을 수 없습니다. 확인 부탁 드립니다. 감사합니다.  참고로 nvidia-smi 입력 하면 아래와 같은 메시지가 뜹니다. NVIDIA-SMI has failed because it couldn't communicate with the NVIDIA driver. Make sure that the latest NVIDIA driver is installed and running.\n",
            "9.after  : 훈련 도중 갑자기 멈추는 상황이 반복되어 reboot 을 했는데요 이후에 nvidi-smi 명령어가 먹히지 않습니다.  pytorch에서도 gpu를 잡을 수 없습니다. 확인 부탁 드립니다. 감사합니다.  참고로 nvidia-smi 입력 하면 아래와 같은 메시지가 뜹니다. NVIDIA-SMI has failed because it couldn't communicate with the NVIDIA driver. Make sure that the latest NVIDIA driver is installed and running.\n",
            "10.before : 현재 원격 데스크톱 접속을 이용하여 HPC를 이용중입니다.  여러 사용자가 HPC에서 작업할 수 있도록 할 예정입니다.  혹시 다수의 컴퓨터로 동시에 HPC를 접속할 수 있는지 궁금합니다.\n",
            "10.after  : 현재 원격 데스크톱 접속을 이용하여 HPC를 이용중입니다.  여러 사용자가 HPC에서 작업할 수 있도록 할 예정입니다.  혹시 다수의 컴퓨터로 동시에 HPC를 접속할 수 있는지 궁금합니다.\n",
            "11.before : test.sh의 내용을 바꾼 뒤에 실행해보니 오류가 발생하였습니다.  확인해주시고 오류 원인 알려주시면 감사드리겠습니다.  또한 오늘 쉘 스크립트 키 값 설정 방법을 알려주시면 작업할 때 참고하도록 하겠습니다.\n",
            "11.after  : test.sh의 내용을 바꾼 뒤에 실행해보니 오류가 발생하였습니다.  확인해주시고 오류 원인 알려주시면 감사드리겠습니다.  또한 오늘 쉘 스크립트 키 값 설정 방법을 알려주시면 작업할 때 참고하도록 하겠습니다.\n",
            "12.before : 기본 PW을 입력해도 접속이 불가하며 jupyter notebook password 에서 변경한 PW을 입력해도 접속이 불가합니다.\n",
            "12.after  : 기본 PW을 입력해도 접속이 불가하며 jupyter notebook password 에서 변경한 PW을 입력해도 접속이 불가합니다.\n",
            "13.before : cuda 및 cudnn 버전을 문의드립니다.\n",
            "13.after  : cuda 및 cudnn 버전을 문의드립니다.\n",
            "14.before : 1. 희망 자원  1번 서버 : Tesla P40 GPU 2개, GPU메모리 48GB, vCPU 8개, 메모리 60GB, [SSD]디스크 100GB [G1] * 1ea, + SSD 1TB *1ea 1번 서버 3대  1번 서버 : Tesla P40 GPU 2개, GPU메모리 48GB, vCPU 8개, 메모리 60GB, [SSD]디스크 100GB [G1] * 1ea, + SSD 1TB *1ea   1번 서버 3대    2번 서버 : Tesla P40 GPU 1개, GPU메모리 24GB, vCPU 4개, 메모리 30GB, [SSD]디스크 100GB [G1] * 1ea + SSD 300GB*1ea  2번 서버 1대  구축할 서버 : 1번 서버 3대 + 2번 서버 1대  / 총 합 4대    2.. 문의 사항  자원 변경에 따른 데이터 및 패키지 이전 관련하여 문의드립니다!\n",
            "14.after  : 1. 희망 자원  1번 서버 : Tesla P40 GPU 2개, GPU메모리 48GB, vCPU 8개, 메모리 60GB, [SSD]디스크 100GB [G1] * 1ea, + SSD 1TB *1ea 1번 서버 3대  1번 서버 : Tesla P40 GPU 2개, GPU메모리 48GB, vCPU 8개, 메모리 60GB, [SSD]디스크 100GB [G1] * 1ea, + SSD 1TB *1ea   1번 서버 3대    2번 서버 : Tesla P40 GPU 1개, GPU메모리 24GB, vCPU 4개, 메모리 30GB, [SSD]디스크 100GB [G1] * 1ea + SSD 300GB*1ea  2번 서버 1대  구축할 서버 : 1번 서버 3대 + 2번 서버 1대  / 총 합 4대    2.. 문의 사항  자원 변경에 따른 데이터 및 패키지 이전 관련하여 문의드립니다!\n",
            "15.before : 두 개의 서버에  SSL 적용이 필요한데 SSL 구매가 가능한지 문의 드립니다.\n",
            "15.after  : 두 개의 서버에  SSL 적용이 필요한데 SSL 구매가 가능한지 문의 드립니다.\n",
            "16.before :    클라우드 백업 정책이 어떻게 되는지 문의드립니다   (web , was, db등)   \n",
            "16.after  : 클라우드백업정책이어떻게되는지문의드립니다(web,was,db등)\n",
            "17.before : 클라우드 백업 정책이 어떻게 되는지 문의드립니다   (web , was, db등)\n",
            "17.after  : 클라우드 백업 정책이 어떻게 되는지 문의드립니다   (web , was, db등)\n",
            "18.before : 2021년 NIPA 고성능 GPU 서버 사업을 통해서 다시 한 번 더 지원을 받게 되었습니다.  2021년 GPU 서버 사업에서 3월 초부터 순차적으로 서버가 할당된다는 안내를 받았는데요,  혹시 구체적으로 사용 가능한 날짜를 언제쯤 알 수 있는지 문의드려도 괜찮을까요?\n",
            "18.after  : 2021년 NIPA 고성능 GPU 서버 사업을 통해서 다시 한 번 더 지원을 받게 되었습니다.  2021년 GPU 서버 사업에서 3월 초부터 순차적으로 서버가 할당된다는 안내를 받았는데요,  혹시 구체적으로 사용 가능한 날짜를 언제쯤 알 수 있는지 문의드려도 괜찮을까요?\n",
            "19.before : 서버에 putty ssh접속 오류가 발생해서 문의남깁니다.    접속 Ip주소는 210.94.203.84, port는 16025, 접속 환경은 윈도우10 입니다.    답변 부탁드립니다.\n",
            "19.after  : 서버에 putty ssh접속 오류가 발생해서 문의남깁니다.    접속 Ip주소는 210.94.203.84, port는 16025, 접속 환경은 윈도우10 입니다.    답변 부탁드립니다.\n",
            "20.before : 문자잔량 안내문자를 받고 충전을 2건 했는데.. 계속 문자안내가 옵니다.  기존 충전방식과 달라진 것 같네요.  2건 부가서비스 사용중이라고 나오고 누르면 500건으로 문자가 나오지만 또 다시 페이지를 열면 기존 잔량으로 초기화됩니다.\n",
            "20.after  : 문자잔량 안내문자를 받고 충전을 2건 했는데.. 계속 문자안내가 옵니다.  기존 충전방식과 달라진 것 같네요.  2건 부가서비스 사용중이라고 나오고 누르면 500건으로 문자가 나오지만 또 다시 페이지를 열면 기존 잔량으로 초기화됩니다.\n",
            "21.before : vpn관련해 문의사항이 있습니다     1. LH내부망과 현재 사용중인 kt g cloud 간의 vpn 구성방안이 어떻게 될까요??    2. lh쪽에서 보안 모니터링을 위해 '트래픽 실시간 모니터링 정보(syslog 등) ' 을 제공해달라고 하는데   제공이 가능할까요??\n",
            "21.after  : vpn관련해 문의사항이 있습니다     1. LH내부망과 현재 사용중인 kt g cloud 간의 vpn 구성방안이 어떻게 될까요??    2. lh쪽에서 보안 모니터링을 위해 '트래픽 실시간 모니터링 정보(syslog 등) ' 을 제공해달라고 하는데   제공이 가능할까요??\n",
            "22.before : 안녕하세요. 아직 GPU 배정이 이루어지지 않은 것으로 알고 있습니다.  GPU를 언제 배정 받을 수 있을지 알 수 있을까요?  메뉴얼은 GPU를 배정받고 난 후에 같이 받아 볼 수 있는 건지 궁금합니다.  감사합니다.\n",
            "22.after  : 아직GPU배정이이루어지지않은것으로알고있습니다.GPU를언제배정받을수있을지알수있을까요?메뉴얼은GPU를배정받고난후에같이받아볼수있는건지궁금합니다.감사합니다.\n",
            "23.before : 원격 데스크톱과 관련하여 문의드립니다.    원격 데스크톱을 활용하기 위해 저희가 가지고 있는 데이터를 원격 데스크톱에 전송하고 싶으나, 전송할 수 있는 방법을 몰라서 문의드립니다.\n",
            "23.after  : 원격 데스크톱과 관련하여 문의드립니다.    원격 데스크톱을 활용하기 위해 저희가 가지고 있는 데이터를 원격 데스크톱에 전송하고 싶으나, 전송할 수 있는 방법을 몰라서 문의드립니다.\n",
            "24.before : 방금 아이피에 대한 승인을 받았습니다.    [아이피]:[SSH 포트] 로 접근하면 될까요?  접근했는데 에러를 송출하네요\n",
            "24.after  : 방금 아이피에 대한 승인을 받았습니다.    [아이피]:[SSH 포트] 로 접근하면 될까요?  접근했는데 에러를 송출하네요\n",
            "25.before :  “2021년 고성능 컴퓨팅 지원 사업”으로 사용하게 된 GPU 서버 환경과 저희가 보유한 서버환경이 달라 몇가지 질문을 드리고 싶습니다.  저희가 보유하고 있는 ubuntu 서버에서는 사용자 계정을 생성하고, virtualenv을 생성하여 개인별로 시스템을 사용했습니다.  위와 같이 GPU 서버 환경에 구축하기 위해 ubuntu에서 사용자 계정을 만들고 virtualenv을 생성하려 했지만 python3.6을 사용하여 진행하기 때문에 버전이 맞지 않아 실행이 되지 않는 문제가 있습니다.  ubuntu에서는 python2, python3.5, python3.6(anaconda)로 되어있지만 ubuntu에서 add user 로 만든 계정에서는 python2, python3.5으로 구성되어 있어 본 GPU 서버에서의 환경구축에 대해 어려움이 있습니다.  설치 및 해결 방법을 알려주시면 감사하겠습니다.\n",
            "25.after  : “2021년고성능컴퓨팅지원사업”으로사용하게된GPU서버환경과저희가보유한서버환경이달라몇가지질문을드리고싶습니다.저희가보유하고있는ubuntu서버에서는사용자계정을생성하고,virtualenv을생성하여개인별로시스템을사용했습니다.위와같이GPU서버환경에구축하기위해ubuntu에서사용자계정을만들고virtualenv을생성하려했지만python3.6을사용하여진행하기때문에버전이맞지않아실행이되지않는문제가있습니다.ubuntu에서는python2,python3.5,python3.6(anaconda)로되어있지만ubuntu에서adduser로만든계정에서는python2,python3.5으로구성되어있어본GPU서버에서의환경구축에대해어려움이있습니다.설치및해결방법을알려주시면감사하겠습니다.\n",
            "26.before : 컴퓨팅 자원을 지원받아 작업을 진행하려는 중 Docker CUDA를 이용할 계획이였습니다.  하지만 windows에서는 지원을 하지 않아 Windows Subsystem for Linux를 이용하여 작업을 진행하려 했지만   Windows server Version 1709이상에서 지원한다고 합니다.   혹시 가능하다면 컴퓨팅 자원을 Linux 로 다시 받을 수 있을 까요?  만약 가능하다면 개발툴(tensorflow, Keras, Pytorch, C++, CUDA, anaconda)과 software가 없는 자원을 지원받을 수 있을까요?\n",
            "26.after  : 컴퓨팅 자원을 지원받아 작업을 진행하려는 중 Docker CUDA를 이용할 계획이였습니다.  하지만 windows에서는 지원을 하지 않아 Windows Subsystem for Linux를 이용하여 작업을 진행하려 했지만   Windows server Version 1709이상에서 지원한다고 합니다.   혹시 가능하다면 컴퓨팅 자원을 Linux 로 다시 받을 수 있을 까요?  만약 가능하다면 개발툴(tensorflow, Keras, Pytorch, C++, CUDA, anaconda)과 software가 없는 자원을 지원받을 수 있을까요?\n",
            "27.before : 세션이 종료되지 않고 끊기지 않게하는 방법이 없을까요?\n",
            "27.after  : 세션이 종료되지 않고 끊기지 않게하는 방법이 없을까요?\n",
            "28.before : 현재 디폴트로 설치된 Ubuntu 버전이 16.04 인데, 저희가 사용한 딥러닝 프레임워크인 tensorflowTTS 의 경우, Ubuntu 버전 18.04 부터 지원이 가능합니다.  관련해서, Ubuntu 업그레이드가 필요한 부분인데, 관련해서    저희가 직접 진행하면 되는건지요?   특별히 가이드 주실 내용이 있으면 확인 부탁드립니다.\n",
            "28.after  : 현재 디폴트로 설치된 Ubuntu 버전이 16.04 인데, 저희가 사용한 딥러닝 프레임워크인 tensorflowTTS 의 경우, Ubuntu 버전 18.04 부터 지원이 가능합니다.  관련해서, Ubuntu 업그레이드가 필요한 부분인데, 관련해서    저희가 직접 진행하면 되는건지요?   특별히 가이드 주실 내용이 있으면 확인 부탁드립니다.\n",
            "29.before : 안녕하세요, 현재 사용하는 서버의 우분투 버전이 16.04인데요,  혹시 18.04 로 업그레이드 가능한지 여부가 궁금합니다.    감사합니다.\n",
            "29.after  : 현재사용하는서버의우분투버전이16.04인데요,혹시18.04로업그레이드가능한지여부가궁금합니다.감사합니다.\n",
            "30.before :   식품안전정보원 정보자원 현황 조사 관련으로 KT G-클라우드 센터 위치 문의 드립니다.\n",
            "30.after  : 식품안전정보원정보자원현황조사관련으로KTG-클라우드센터위치문의드립니다.\n",
            "31.before : 주관기관에서 스트레스 테스트 데이터가 필요하다는 요청이 있습니다.   혹시 스트레스 테스트 결과 데이터를 받을 수 있는지,  아니면 jmeter 를 사용해도 되는지 알려주세요\n",
            "31.after  : 주관기관에서 스트레스 테스트 데이터가 필요하다는 요청이 있습니다.   혹시 스트레스 테스트 결과 데이터를 받을 수 있는지,  아니면 jmeter 를 사용해도 되는지 알려주세요\n",
            "32.before : 다름이 아니라..지난 주에는 접속이 잘되었는데, 금일 접속하려니 접속이 되지 않네요.  혹시나, 확인을 해보니 저희쪽 IP주소가 방화벽 신청할때랑 바뀐 것 같아요.   아무래도 대학교 보육센터의 인터넷 회선을 이용하다보니, IP 주소가 바뀌는 경우가 계속 발생할 것 같은데요.  어떻게 처리를 하는게 좋을지 조언 부탁드립니다.\n",
            "32.after  : 지난 주에는 접속이 잘되었는데, 금일 접속하려니 접속이 되지 않네요.  혹시나, 확인을 해보니 저희쪽 IP주소가 방화벽 신청할때랑 바뀐 것 같아요.   아무래도 대학교 보육센터의 인터넷 회선을 이용하다보니, IP 주소가 바뀌는 경우가 계속 발생할 것 같은데요.  어떻게 처리를 하는게 좋을지 조언 부탁드립니다.\n",
            "33.before : 파일 업로드는 어떻게 진행하나요?    제마음대로 sftp 설치 및 설정 후 요청을 드려도 되나요?    아니면 별도의 정책이 있나요?\n",
            "33.after  : 파일 업로드는 어떻게 진행하나요?    제마음대로 sftp 설치 및 설정 후 요청을 드려도 되나요?    아니면 별도의 정책이 있나요?\n",
            "34.before : (conda_tensorflow2_p36) 환경에서 tensorflow 2.4 버전 설치 시 GPU가 인식되지 않습니다 (tf.test.is_gpu_available 실행시 False).    tensorflow-probability는 tensorflow 2.4 버전에서만 구동되는데 해결 방안이 없을까요?\n",
            "34.after  : (conda_tensorflow2_p36) 환경에서 tensorflow 2.4 버전 설치 시 GPU가 인식되지 않습니다 (tf.test.is_gpu_available 실행시 False).    tensorflow-probability는 tensorflow 2.4 버전에서만 구동되는데 해결 방안이 없을까요?\n",
            "35.before : 안녕하세요. 컴퓨팅 자원 서비스를 받고 있는 광운대학교 전기공학과 박주영 입니다.  문자와 메일로 컴퓨팅 자원을 잘 사용하지 않는 사용자에게서 회수한다는 내용이 계속 와서  혹시 회수를 당하는? 것인지 여쭤보려고 연락드립니다.    얼마나 활발히? 사용해야 계속 사용을 할 수 있는건지 여쭤보고 싶고    담당자인 제가 지난달 수술을 받았고 이제서야 조금씩 업무를 진행하려고 하는데  아무래도 조금 어려움이 있어서 활발한 사용은 1,2주 정도 뒤에야 가능할 것 같은데  자원 회수를 조금 미뤄주시는 것으로 양해를 구할 수 있는지도 여쭤보고 싶습니다...    감사합니다. 박주영 드림\n",
            "35.after  : 컴퓨팅자원서비스를받고있는광운대학교전기공학과박주영입니다.문자와메일로컴퓨팅자원을잘사용하지않는사용자에게서회수한다는내용이계속와서혹시회수를당하는?것인지여쭤보려고연락드립니다.얼마나활발히?사용해야계속사용을할수있는건지여쭤보고싶고담당자인제가지난달수술을받았고이제서야조금씩업무를진행하려고하는데아무래도조금어려움이있어서활발한사용은1,2주정도뒤에야가능할것같은데자원회수를조금미뤄주시는것으로양해를구할수있는지도여쭤보고싶습니다...감사합니다.박주영드림\n",
            "36.before : 안녕하세요. 디오비스튜디오 입니다.  저장 공간에 추가 건에 대해 정보통신산업진흥원 AI융합산업팀에 유선으로 문의한 결과 요청을 하면 추가로 할당 받을 수 있다는 연락을 받았습니다.  추가로 저장 공간을 할당받을 수 있는지 문의 남깁니다.    감사합니다.\n",
            "36.after  : 디오비스튜디오입니다.저장공간에추가건에대해정보통신산업진흥원AI융합산업팀에유선으로문의한결과요청을하면추가로할당받을수있다는연락을받았습니다.추가로저장공간을할당받을수있는지문의남깁니다.감사합니다.\n",
            "37.before : 화면 퍼퍼링이 심합니다.  정도의 차이가 아니라 심하면  거의 마우스 클릭에 수십초 이상 응답하지 않는 상태  또 어떨때는 정상 작동  이전 글 이후로 몇시간 동안은 잘 되다   또 같은 문제가 발생합니다.  지금은 아예 먹통이고  몇칠 전서부터 세션이 종료했다 붙었다를 반복하고 버퍼링 지연이 조금씩 발생하더니  apex one 설치하고부터는 정도가 심해졌습니다\n",
            "37.after  : 화면 퍼퍼링이 심합니다.  정도의 차이가 아니라 심하면  거의 마우스 클릭에 수십초 이상 응답하지 않는 상태  또 어떨때는 정상 작동  이전 글 이후로 몇시간 동안은 잘 되다   또 같은 문제가 발생합니다.  지금은 아예 먹통이고  몇칠 전서부터 세션이 종료했다 붙었다를 반복하고 버퍼링 지연이 조금씩 발생하더니  apex one 설치하고부터는 정도가 심해졌습니다\n",
            "38.before : 안녕하세요?  접속정보 pdf 파일 암호가 삭제되었는데 다시 한번 더 부탁드립니다. \n",
            "38.after  : 접속정보pdf파일암호가삭제되었는데다시한번더부탁드립니다.\n",
            "39.before : 회사 주소지 이전으로 인하여 다음과 같이 신규 IP 신청 드립니다. 기존에 사용하고 있던 IP 삭제 또한 요청 드립니다.\n",
            "39.after  : 회사 주소지 이전으로 인하여 다음과 같이 신규 IP 신청 드립니다. 기존에 사용하고 있던 IP 삭제 또한 요청 드립니다.\n"
          ],
          "name": "stdout"
        }
      ]
    }
  ]
}