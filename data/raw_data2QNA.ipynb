{
  "nbformat": 4,
  "nbformat_minor": 0,
  "metadata": {
    "colab": {
      "name": "raw-data2QNA.ipynb",
      "provenance": [],
      "collapsed_sections": []
    },
    "kernelspec": {
      "name": "python3",
      "display_name": "Python 3"
    },
    "language_info": {
      "name": "python"
    },
    "widgets": {
      "application/vnd.jupyter.widget-state+json": {
        "906be2e3ddc24493b1f5b0a4afe79c9f": {
          "model_module": "@jupyter-widgets/controls",
          "model_name": "HBoxModel",
          "state": {
            "_view_name": "HBoxView",
            "_dom_classes": [],
            "_model_name": "HBoxModel",
            "_view_module": "@jupyter-widgets/controls",
            "_model_module_version": "1.5.0",
            "_view_count": null,
            "_view_module_version": "1.5.0",
            "box_style": "",
            "layout": "IPY_MODEL_3f5ee07a50dc45c0b94a875fb223b785",
            "_model_module": "@jupyter-widgets/controls",
            "children": [
              "IPY_MODEL_4846be6f82b546ada74b73f36ed1da92",
              "IPY_MODEL_81c3f2625fb74cfa887a915a890ec3e7"
            ]
          }
        },
        "3f5ee07a50dc45c0b94a875fb223b785": {
          "model_module": "@jupyter-widgets/base",
          "model_name": "LayoutModel",
          "state": {
            "_view_name": "LayoutView",
            "grid_template_rows": null,
            "right": null,
            "justify_content": null,
            "_view_module": "@jupyter-widgets/base",
            "overflow": null,
            "_model_module_version": "1.2.0",
            "_view_count": null,
            "flex_flow": null,
            "width": null,
            "min_width": null,
            "border": null,
            "align_items": null,
            "bottom": null,
            "_model_module": "@jupyter-widgets/base",
            "top": null,
            "grid_column": null,
            "overflow_y": null,
            "overflow_x": null,
            "grid_auto_flow": null,
            "grid_area": null,
            "grid_template_columns": null,
            "flex": null,
            "_model_name": "LayoutModel",
            "justify_items": null,
            "grid_row": null,
            "max_height": null,
            "align_content": null,
            "visibility": null,
            "align_self": null,
            "height": null,
            "min_height": null,
            "padding": null,
            "grid_auto_rows": null,
            "grid_gap": null,
            "max_width": null,
            "order": null,
            "_view_module_version": "1.2.0",
            "grid_template_areas": null,
            "object_position": null,
            "object_fit": null,
            "grid_auto_columns": null,
            "margin": null,
            "display": null,
            "left": null
          }
        },
        "4846be6f82b546ada74b73f36ed1da92": {
          "model_module": "@jupyter-widgets/controls",
          "model_name": "FloatProgressModel",
          "state": {
            "_view_name": "ProgressView",
            "style": "IPY_MODEL_57c831170b7547deb45fef529da719f4",
            "_dom_classes": [],
            "description": "",
            "_model_name": "FloatProgressModel",
            "bar_style": "success",
            "max": 1,
            "_view_module": "@jupyter-widgets/controls",
            "_model_module_version": "1.5.0",
            "value": 1,
            "_view_count": null,
            "_view_module_version": "1.5.0",
            "orientation": "horizontal",
            "min": 0,
            "description_tooltip": null,
            "_model_module": "@jupyter-widgets/controls",
            "layout": "IPY_MODEL_4c717841339b4ae385f8c2b7e2739f5f"
          }
        },
        "81c3f2625fb74cfa887a915a890ec3e7": {
          "model_module": "@jupyter-widgets/controls",
          "model_name": "HTMLModel",
          "state": {
            "_view_name": "HTMLView",
            "style": "IPY_MODEL_72e51ad98cb6437f9d956c3c78868c7a",
            "_dom_classes": [],
            "description": "",
            "_model_name": "HTMLModel",
            "placeholder": "​",
            "_view_module": "@jupyter-widgets/controls",
            "_model_module_version": "1.5.0",
            "value": " 75096/? [04:17&lt;00:00, 291.14it/s]",
            "_view_count": null,
            "_view_module_version": "1.5.0",
            "description_tooltip": null,
            "_model_module": "@jupyter-widgets/controls",
            "layout": "IPY_MODEL_d9fd5a4ff32443288df3fe7084238683"
          }
        },
        "57c831170b7547deb45fef529da719f4": {
          "model_module": "@jupyter-widgets/controls",
          "model_name": "ProgressStyleModel",
          "state": {
            "_view_name": "StyleView",
            "_model_name": "ProgressStyleModel",
            "description_width": "initial",
            "_view_module": "@jupyter-widgets/base",
            "_model_module_version": "1.5.0",
            "_view_count": null,
            "_view_module_version": "1.2.0",
            "bar_color": null,
            "_model_module": "@jupyter-widgets/controls"
          }
        },
        "4c717841339b4ae385f8c2b7e2739f5f": {
          "model_module": "@jupyter-widgets/base",
          "model_name": "LayoutModel",
          "state": {
            "_view_name": "LayoutView",
            "grid_template_rows": null,
            "right": null,
            "justify_content": null,
            "_view_module": "@jupyter-widgets/base",
            "overflow": null,
            "_model_module_version": "1.2.0",
            "_view_count": null,
            "flex_flow": null,
            "width": null,
            "min_width": null,
            "border": null,
            "align_items": null,
            "bottom": null,
            "_model_module": "@jupyter-widgets/base",
            "top": null,
            "grid_column": null,
            "overflow_y": null,
            "overflow_x": null,
            "grid_auto_flow": null,
            "grid_area": null,
            "grid_template_columns": null,
            "flex": null,
            "_model_name": "LayoutModel",
            "justify_items": null,
            "grid_row": null,
            "max_height": null,
            "align_content": null,
            "visibility": null,
            "align_self": null,
            "height": null,
            "min_height": null,
            "padding": null,
            "grid_auto_rows": null,
            "grid_gap": null,
            "max_width": null,
            "order": null,
            "_view_module_version": "1.2.0",
            "grid_template_areas": null,
            "object_position": null,
            "object_fit": null,
            "grid_auto_columns": null,
            "margin": null,
            "display": null,
            "left": null
          }
        },
        "72e51ad98cb6437f9d956c3c78868c7a": {
          "model_module": "@jupyter-widgets/controls",
          "model_name": "DescriptionStyleModel",
          "state": {
            "_view_name": "StyleView",
            "_model_name": "DescriptionStyleModel",
            "description_width": "",
            "_view_module": "@jupyter-widgets/base",
            "_model_module_version": "1.5.0",
            "_view_count": null,
            "_view_module_version": "1.2.0",
            "_model_module": "@jupyter-widgets/controls"
          }
        },
        "d9fd5a4ff32443288df3fe7084238683": {
          "model_module": "@jupyter-widgets/base",
          "model_name": "LayoutModel",
          "state": {
            "_view_name": "LayoutView",
            "grid_template_rows": null,
            "right": null,
            "justify_content": null,
            "_view_module": "@jupyter-widgets/base",
            "overflow": null,
            "_model_module_version": "1.2.0",
            "_view_count": null,
            "flex_flow": null,
            "width": null,
            "min_width": null,
            "border": null,
            "align_items": null,
            "bottom": null,
            "_model_module": "@jupyter-widgets/base",
            "top": null,
            "grid_column": null,
            "overflow_y": null,
            "overflow_x": null,
            "grid_auto_flow": null,
            "grid_area": null,
            "grid_template_columns": null,
            "flex": null,
            "_model_name": "LayoutModel",
            "justify_items": null,
            "grid_row": null,
            "max_height": null,
            "align_content": null,
            "visibility": null,
            "align_self": null,
            "height": null,
            "min_height": null,
            "padding": null,
            "grid_auto_rows": null,
            "grid_gap": null,
            "max_width": null,
            "order": null,
            "_view_module_version": "1.2.0",
            "grid_template_areas": null,
            "object_position": null,
            "object_fit": null,
            "grid_auto_columns": null,
            "margin": null,
            "display": null,
            "left": null
          }
        }
      }
    }
  },
  "cells": [
    {
      "cell_type": "code",
      "metadata": {
        "colab": {
          "base_uri": "https://localhost:8080/"
        },
        "id": "aIczRzQRsMiU",
        "outputId": "15d4efb8-8ac8-49f1-ba09-45af527ce0fb"
      },
      "source": [
        "!pip install xlrd\n",
        "!pip install openpyxl\n",
        "!pip install pandas"
      ],
      "execution_count": 19,
      "outputs": [
        {
          "output_type": "stream",
          "text": [
            "Requirement already satisfied: xlrd in /usr/local/lib/python3.7/dist-packages (1.1.0)\n",
            "Requirement already satisfied: openpyxl in /usr/local/lib/python3.7/dist-packages (2.5.9)\n",
            "Requirement already satisfied: et-xmlfile in /usr/local/lib/python3.7/dist-packages (from openpyxl) (1.1.0)\n",
            "Requirement already satisfied: jdcal in /usr/local/lib/python3.7/dist-packages (from openpyxl) (1.4.1)\n",
            "Requirement already satisfied: pandas in /usr/local/lib/python3.7/dist-packages (1.1.5)\n",
            "Requirement already satisfied: python-dateutil>=2.7.3 in /usr/local/lib/python3.7/dist-packages (from pandas) (2.8.1)\n",
            "Requirement already satisfied: pytz>=2017.2 in /usr/local/lib/python3.7/dist-packages (from pandas) (2018.9)\n",
            "Requirement already satisfied: numpy>=1.15.4 in /usr/local/lib/python3.7/dist-packages (from pandas) (1.19.5)\n",
            "Requirement already satisfied: six>=1.5 in /usr/local/lib/python3.7/dist-packages (from python-dateutil>=2.7.3->pandas) (1.15.0)\n"
          ],
          "name": "stdout"
        }
      ]
    },
    {
      "cell_type": "code",
      "metadata": {
        "id": "wdRfiH8Pqw28"
      },
      "source": [
        "import pandas as pd\n",
        "from tqdm import tqdm, tqdm_notebook\n",
        "import re"
      ],
      "execution_count": 28,
      "outputs": []
    },
    {
      "cell_type": "code",
      "metadata": {
        "id": "mlhUWJ3nw28D"
      },
      "source": [
        "xlsx = pd.read_excel(\"raw-data.xlsx\")\n",
        "xlsx.to_csv(\"transformed-data.csv\")"
      ],
      "execution_count": 29,
      "outputs": []
    },
    {
      "cell_type": "code",
      "metadata": {
        "colab": {
          "base_uri": "https://localhost:8080/"
        },
        "id": "TnUAMR-2yvFE",
        "outputId": "c24c14c3-21c3-44d1-ea4a-4ec217203eab"
      },
      "source": [
        "raw_data = pd.read_csv('transformed-data.csv')\n",
        "print(raw_data['content.1'])"
      ],
      "execution_count": 30,
      "outputs": [
        {
          "output_type": "stream",
          "text": [
            "0                                                    수신 불가\n",
            "1        안녕하세요!시스템통합운영센터 서비스데스크입니다. 네이버, 다음, 구글, 네이트 + ...\n",
            "2        안녕하세요!시스템통합운영센터 서비스데스크입니다. 요청해주신 주소로 세금계산서 정보 ...\n",
            "3        안녕하세요!시스템통합운영센터 서비스데스크입니다. 요청 주신 내용 유선으로 안내드렸습...\n",
            "4        안녕하세요...위 설정작업후 mysql 재시작 부탁드립니다. (현재 5.6버전입니다...\n",
            "                               ...                        \n",
            "75091    네임서버 후이즈로 변경을 했습니다.저희도 업체에 요청을 해야 해서 업체에 요청하여 ...\n",
            "75092    salesnut.kr1. SSL 인증서 설치 요청 . https 연결 요청 드립니다...\n",
            "75093    안녕하세요!디딤365 운영센터입니다.현재 도메인 연결은 완료하였으며, 사이트 확인 ...\n",
            "75094    제가 잘못썻네요 SSH (https) 이 아니라 SSL (https) 인증서 작업 ...\n",
            "75095    안녕하세요!디딤365 운영센터입니다.유선상 말씀드린 경로 안내해 드립니다.네임 서버...\n",
            "Name: content.1, Length: 75096, dtype: object\n"
          ],
          "name": "stdout"
        }
      ]
    },
    {
      "cell_type": "code",
      "metadata": {
        "colab": {
          "base_uri": "https://localhost:8080/",
          "height": 375,
          "referenced_widgets": [
            "906be2e3ddc24493b1f5b0a4afe79c9f",
            "3f5ee07a50dc45c0b94a875fb223b785",
            "4846be6f82b546ada74b73f36ed1da92",
            "81c3f2625fb74cfa887a915a890ec3e7",
            "57c831170b7547deb45fef529da719f4",
            "4c717841339b4ae385f8c2b7e2739f5f",
            "72e51ad98cb6437f9d956c3c78868c7a",
            "d9fd5a4ff32443288df3fe7084238683"
          ]
        },
        "id": "bHGHXyZdyd5y",
        "outputId": "219c9799-ba1f-4434-c86b-3469f64c2070"
      },
      "source": [
        "new_data = pd.DataFrame({'data_idx':[], 'Question':[], 'Answer':[]})\n",
        "#new_data = new_data.append(pd.Series(['1', '질문', '답변'], index=['data_idx', 'Question', 'Answer']), ignore_index=True)\n",
        "data_idx = None\n",
        "question = ''\n",
        "answer = ''\n",
        "for idx, row in tqdm_notebook(raw_data.iterrows()):\n",
        "  #새로운 질문이 시작됐거나 질문과 답변이 모두 찼는데 새로운 질문이 들어온 경우\n",
        "  if data_idx != row['data_idx'] or (question != '' and answer != '' and row['writer'] == '고객'):\n",
        "    if data_idx != None: #새로운 질문이 들어오면 기존에 받아놨던 데이터 테이블에 올리기\n",
        "      new_data = new_data.append(pd.Series([data_idx, question, answer], index=['data_idx', 'Question', 'Answer']), ignore_index=True)\n",
        "    data_idx = row['data_idx']\n",
        "    question = row['content']\n",
        "    answer = ''\n",
        "  if row['writer'] == '고객':\n",
        "    question = question + row['content.1']\n",
        "  if(row['writer'] == '디딤365'):\n",
        "    answer = answer + row['content.1']\n",
        "#마지막 데이터 넣어주기\n",
        "new_data = new_data.append(pd.Series([data_idx, question, answer], index=['data_idx', 'Question', 'Answer']), ignore_index=True)\n",
        "\n",
        "print(new_data)\n",
        "new_data.to_csv(\"beta-dataset.csv\", index=False, encoding=\"utf-8-sig\")"
      ],
      "execution_count": 31,
      "outputs": [
        {
          "output_type": "stream",
          "text": [
            "/usr/local/lib/python3.7/dist-packages/ipykernel_launcher.py:6: TqdmDeprecationWarning: This function will be removed in tqdm==5.0.0\n",
            "Please use `tqdm.notebook.tqdm` instead of `tqdm.tqdm_notebook`\n",
            "  \n"
          ],
          "name": "stderr"
        },
        {
          "output_type": "display_data",
          "data": {
            "application/vnd.jupyter.widget-view+json": {
              "model_id": "906be2e3ddc24493b1f5b0a4afe79c9f",
              "version_minor": 0,
              "version_major": 2
            },
            "text/plain": [
              "HBox(children=(FloatProgress(value=1.0, bar_style='info', max=1.0), HTML(value='')))"
            ]
          },
          "metadata": {
            "tags": []
          }
        },
        {
          "output_type": "stream",
          "text": [
            "\n",
            "                data_idx  ...                                             Answer\n",
            "0      M-0001-10621       ...  안녕하세요!시스템통합운영센터 서비스데스크입니다. 네이버, 다음, 구글, 네이트 + ...\n",
            "1      M-0001-10626       ...  안녕하세요!시스템통합운영센터 서비스데스크입니다. 요청해주신 주소로 세금계산서 정보 ...\n",
            "2      M-0001-10636       ...  안녕하세요!시스템통합운영센터 서비스데스크입니다. 요청 주신 내용 유선으로 안내드렸습...\n",
            "3      M-0001-10673       ...  안녕하세요!시스템통합운영센터 서비스데스크입니다. 요청하신 설정 적용 후 MySQL ...\n",
            "4      M-0001-10690       ...  안녕하세요!시스템통합운영센터 서비스데스크입니다. 요청하신 작업 일시에 증설 진행하겠...\n",
            "...                  ...  ...                                                ...\n",
            "49253          P-52995    ...  안녕하세요!디딤365 운영센터입니다.문의하신 사항에 대해 안내해 드립니다.어제 서버...\n",
            "49254          P-53006    ...  안녕하세요!디딤365 영업컨설팅본부 장윤정 입니다.요청주신 리눅스 웹 호스팅 견적서...\n",
            "49255          P-53037    ...  안녕하세요!디딤365 운영센터입니다.네임서버의 경우 후이즈에 DNS를 세팅하셔도 상...\n",
            "49256          P-53037    ...  안녕하세요!디딤365 운영센터입니다.현재 도메인 연결은 완료하였으며, 사이트 확인 ...\n",
            "49257          P-53037    ...  안녕하세요!디딤365 운영센터입니다.유선상 말씀드린 경로 안내해 드립니다.네임 서버...\n",
            "\n",
            "[49258 rows x 3 columns]\n"
          ],
          "name": "stdout"
        }
      ]
    }
  ]
}